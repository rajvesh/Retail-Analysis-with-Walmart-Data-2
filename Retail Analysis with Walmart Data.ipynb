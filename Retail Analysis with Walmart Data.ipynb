{
 "cells": [
  {
   "cell_type": "markdown",
   "metadata": {},
   "source": [
    "# Retail Analysis with Walmart Data"
   ]
  },
  {
   "cell_type": "markdown",
   "metadata": {},
   "source": [
    "#### Import library"
   ]
  },
  {
   "cell_type": "code",
   "execution_count": 1,
   "metadata": {},
   "outputs": [],
   "source": [
    "import numpy as np\n",
    "import pandas as pd\n",
    "\n",
    "import matplotlib.pylab as plt\n",
    "import seaborn as sns\n",
    "#import pandas_profiling \n",
    "import seaborn as sns\n",
    "\n",
    "\n",
    "from datetime import datetime\n",
    "\n",
    "import statsmodels.api as sm\n",
    "from sklearn import metrics\n",
    "from sklearn.model_selection import train_test_split\n",
    "from sklearn.linear_model import LinearRegression\n",
    "#from sklearn.ensemble import RandomForestRegressor\n",
    "#from sklearn.tree import DecisionTreeRegressor\n",
    "#from sklearn.ensemble import AdaBoostRegressor\n",
    "#from sklearn.ensemble import GradientBoostingRegressor\n",
    "#from sklearn.svm import SVC, LinearSVC\n",
    "from sklearn.metrics import mean_squared_error as mse\n",
    "from sklearn.metrics import mean_absolute_error, mean_squared_error"
   ]
  },
  {
   "cell_type": "markdown",
   "metadata": {},
   "source": [
    "#### Read csv"
   ]
  },
  {
   "cell_type": "code",
   "execution_count": 2,
   "metadata": {},
   "outputs": [],
   "source": [
    "df_stores = pd.read_csv('C:\\\\rohit\\\\simple\\\\Data Science with Python\\\\practice project5\\\\Walmart_Store_sales.csv')"
   ]
  },
  {
   "cell_type": "markdown",
   "metadata": {},
   "source": [
    "#### Print first five columns"
   ]
  },
  {
   "cell_type": "code",
   "execution_count": 3,
   "metadata": {},
   "outputs": [
    {
     "data": {
      "text/html": [
       "<div>\n",
       "<style scoped>\n",
       "    .dataframe tbody tr th:only-of-type {\n",
       "        vertical-align: middle;\n",
       "    }\n",
       "\n",
       "    .dataframe tbody tr th {\n",
       "        vertical-align: top;\n",
       "    }\n",
       "\n",
       "    .dataframe thead th {\n",
       "        text-align: right;\n",
       "    }\n",
       "</style>\n",
       "<table border=\"1\" class=\"dataframe\">\n",
       "  <thead>\n",
       "    <tr style=\"text-align: right;\">\n",
       "      <th></th>\n",
       "      <th>Store</th>\n",
       "      <th>Date</th>\n",
       "      <th>Weekly_Sales</th>\n",
       "      <th>Holiday_Flag</th>\n",
       "      <th>Temperature</th>\n",
       "      <th>Fuel_Price</th>\n",
       "      <th>CPI</th>\n",
       "      <th>Unemployment</th>\n",
       "    </tr>\n",
       "  </thead>\n",
       "  <tbody>\n",
       "    <tr>\n",
       "      <td>0</td>\n",
       "      <td>1</td>\n",
       "      <td>05-02-2010</td>\n",
       "      <td>1643690.90</td>\n",
       "      <td>0</td>\n",
       "      <td>42.31</td>\n",
       "      <td>2.572</td>\n",
       "      <td>211.096358</td>\n",
       "      <td>8.106</td>\n",
       "    </tr>\n",
       "    <tr>\n",
       "      <td>1</td>\n",
       "      <td>1</td>\n",
       "      <td>12-02-2010</td>\n",
       "      <td>1641957.44</td>\n",
       "      <td>1</td>\n",
       "      <td>38.51</td>\n",
       "      <td>2.548</td>\n",
       "      <td>211.242170</td>\n",
       "      <td>8.106</td>\n",
       "    </tr>\n",
       "    <tr>\n",
       "      <td>2</td>\n",
       "      <td>1</td>\n",
       "      <td>19-02-2010</td>\n",
       "      <td>1611968.17</td>\n",
       "      <td>0</td>\n",
       "      <td>39.93</td>\n",
       "      <td>2.514</td>\n",
       "      <td>211.289143</td>\n",
       "      <td>8.106</td>\n",
       "    </tr>\n",
       "    <tr>\n",
       "      <td>3</td>\n",
       "      <td>1</td>\n",
       "      <td>26-02-2010</td>\n",
       "      <td>1409727.59</td>\n",
       "      <td>0</td>\n",
       "      <td>46.63</td>\n",
       "      <td>2.561</td>\n",
       "      <td>211.319643</td>\n",
       "      <td>8.106</td>\n",
       "    </tr>\n",
       "    <tr>\n",
       "      <td>4</td>\n",
       "      <td>1</td>\n",
       "      <td>05-03-2010</td>\n",
       "      <td>1554806.68</td>\n",
       "      <td>0</td>\n",
       "      <td>46.50</td>\n",
       "      <td>2.625</td>\n",
       "      <td>211.350143</td>\n",
       "      <td>8.106</td>\n",
       "    </tr>\n",
       "  </tbody>\n",
       "</table>\n",
       "</div>"
      ],
      "text/plain": [
       "   Store        Date  Weekly_Sales  Holiday_Flag  Temperature  Fuel_Price  \\\n",
       "0      1  05-02-2010    1643690.90             0        42.31       2.572   \n",
       "1      1  12-02-2010    1641957.44             1        38.51       2.548   \n",
       "2      1  19-02-2010    1611968.17             0        39.93       2.514   \n",
       "3      1  26-02-2010    1409727.59             0        46.63       2.561   \n",
       "4      1  05-03-2010    1554806.68             0        46.50       2.625   \n",
       "\n",
       "          CPI  Unemployment  \n",
       "0  211.096358         8.106  \n",
       "1  211.242170         8.106  \n",
       "2  211.289143         8.106  \n",
       "3  211.319643         8.106  \n",
       "4  211.350143         8.106  "
      ]
     },
     "execution_count": 3,
     "metadata": {},
     "output_type": "execute_result"
    }
   ],
   "source": [
    "df_stores.head()"
   ]
  },
  {
   "cell_type": "markdown",
   "metadata": {},
   "source": [
    "#### Check null values and data types"
   ]
  },
  {
   "cell_type": "code",
   "execution_count": 4,
   "metadata": {},
   "outputs": [
    {
     "name": "stdout",
     "output_type": "stream",
     "text": [
      "<class 'pandas.core.frame.DataFrame'>\n",
      "RangeIndex: 6435 entries, 0 to 6434\n",
      "Data columns (total 8 columns):\n",
      "Store           6435 non-null int64\n",
      "Date            6435 non-null object\n",
      "Weekly_Sales    6435 non-null float64\n",
      "Holiday_Flag    6435 non-null int64\n",
      "Temperature     6435 non-null float64\n",
      "Fuel_Price      6435 non-null float64\n",
      "CPI             6435 non-null float64\n",
      "Unemployment    6435 non-null float64\n",
      "dtypes: float64(5), int64(2), object(1)\n",
      "memory usage: 402.3+ KB\n"
     ]
    }
   ],
   "source": [
    "df_stores.info()"
   ]
  },
  {
   "cell_type": "markdown",
   "metadata": {},
   "source": [
    "###### No null values are present"
   ]
  },
  {
   "cell_type": "code",
   "execution_count": 5,
   "metadata": {},
   "outputs": [
    {
     "data": {
      "text/html": [
       "<div>\n",
       "<style scoped>\n",
       "    .dataframe tbody tr th:only-of-type {\n",
       "        vertical-align: middle;\n",
       "    }\n",
       "\n",
       "    .dataframe tbody tr th {\n",
       "        vertical-align: top;\n",
       "    }\n",
       "\n",
       "    .dataframe thead th {\n",
       "        text-align: right;\n",
       "    }\n",
       "</style>\n",
       "<table border=\"1\" class=\"dataframe\">\n",
       "  <thead>\n",
       "    <tr style=\"text-align: right;\">\n",
       "      <th></th>\n",
       "      <th>Store</th>\n",
       "      <th>Weekly_Sales</th>\n",
       "      <th>Holiday_Flag</th>\n",
       "      <th>Temperature</th>\n",
       "      <th>Fuel_Price</th>\n",
       "      <th>CPI</th>\n",
       "      <th>Unemployment</th>\n",
       "    </tr>\n",
       "  </thead>\n",
       "  <tbody>\n",
       "    <tr>\n",
       "      <td>count</td>\n",
       "      <td>6435.000000</td>\n",
       "      <td>6.435000e+03</td>\n",
       "      <td>6435.000000</td>\n",
       "      <td>6435.000000</td>\n",
       "      <td>6435.000000</td>\n",
       "      <td>6435.000000</td>\n",
       "      <td>6435.000000</td>\n",
       "    </tr>\n",
       "    <tr>\n",
       "      <td>mean</td>\n",
       "      <td>23.000000</td>\n",
       "      <td>1.046965e+06</td>\n",
       "      <td>0.069930</td>\n",
       "      <td>60.663782</td>\n",
       "      <td>3.358607</td>\n",
       "      <td>171.578394</td>\n",
       "      <td>7.999151</td>\n",
       "    </tr>\n",
       "    <tr>\n",
       "      <td>std</td>\n",
       "      <td>12.988182</td>\n",
       "      <td>5.643666e+05</td>\n",
       "      <td>0.255049</td>\n",
       "      <td>18.444933</td>\n",
       "      <td>0.459020</td>\n",
       "      <td>39.356712</td>\n",
       "      <td>1.875885</td>\n",
       "    </tr>\n",
       "    <tr>\n",
       "      <td>min</td>\n",
       "      <td>1.000000</td>\n",
       "      <td>2.099862e+05</td>\n",
       "      <td>0.000000</td>\n",
       "      <td>-2.060000</td>\n",
       "      <td>2.472000</td>\n",
       "      <td>126.064000</td>\n",
       "      <td>3.879000</td>\n",
       "    </tr>\n",
       "    <tr>\n",
       "      <td>25%</td>\n",
       "      <td>12.000000</td>\n",
       "      <td>5.533501e+05</td>\n",
       "      <td>0.000000</td>\n",
       "      <td>47.460000</td>\n",
       "      <td>2.933000</td>\n",
       "      <td>131.735000</td>\n",
       "      <td>6.891000</td>\n",
       "    </tr>\n",
       "    <tr>\n",
       "      <td>50%</td>\n",
       "      <td>23.000000</td>\n",
       "      <td>9.607460e+05</td>\n",
       "      <td>0.000000</td>\n",
       "      <td>62.670000</td>\n",
       "      <td>3.445000</td>\n",
       "      <td>182.616521</td>\n",
       "      <td>7.874000</td>\n",
       "    </tr>\n",
       "    <tr>\n",
       "      <td>75%</td>\n",
       "      <td>34.000000</td>\n",
       "      <td>1.420159e+06</td>\n",
       "      <td>0.000000</td>\n",
       "      <td>74.940000</td>\n",
       "      <td>3.735000</td>\n",
       "      <td>212.743293</td>\n",
       "      <td>8.622000</td>\n",
       "    </tr>\n",
       "    <tr>\n",
       "      <td>max</td>\n",
       "      <td>45.000000</td>\n",
       "      <td>3.818686e+06</td>\n",
       "      <td>1.000000</td>\n",
       "      <td>100.140000</td>\n",
       "      <td>4.468000</td>\n",
       "      <td>227.232807</td>\n",
       "      <td>14.313000</td>\n",
       "    </tr>\n",
       "  </tbody>\n",
       "</table>\n",
       "</div>"
      ],
      "text/plain": [
       "             Store  Weekly_Sales  Holiday_Flag  Temperature   Fuel_Price  \\\n",
       "count  6435.000000  6.435000e+03   6435.000000  6435.000000  6435.000000   \n",
       "mean     23.000000  1.046965e+06      0.069930    60.663782     3.358607   \n",
       "std      12.988182  5.643666e+05      0.255049    18.444933     0.459020   \n",
       "min       1.000000  2.099862e+05      0.000000    -2.060000     2.472000   \n",
       "25%      12.000000  5.533501e+05      0.000000    47.460000     2.933000   \n",
       "50%      23.000000  9.607460e+05      0.000000    62.670000     3.445000   \n",
       "75%      34.000000  1.420159e+06      0.000000    74.940000     3.735000   \n",
       "max      45.000000  3.818686e+06      1.000000   100.140000     4.468000   \n",
       "\n",
       "               CPI  Unemployment  \n",
       "count  6435.000000   6435.000000  \n",
       "mean    171.578394      7.999151  \n",
       "std      39.356712      1.875885  \n",
       "min     126.064000      3.879000  \n",
       "25%     131.735000      6.891000  \n",
       "50%     182.616521      7.874000  \n",
       "75%     212.743293      8.622000  \n",
       "max     227.232807     14.313000  "
      ]
     },
     "execution_count": 5,
     "metadata": {},
     "output_type": "execute_result"
    }
   ],
   "source": [
    "df_stores.describe()"
   ]
  },
  {
   "cell_type": "markdown",
   "metadata": {},
   "source": [
    "#### Which store has maximum sales"
   ]
  },
  {
   "cell_type": "code",
   "execution_count": 6,
   "metadata": {},
   "outputs": [],
   "source": [
    "df_sales = df_stores.groupby('Store')['Weekly_Sales'].sum().sort_values(ascending=False)"
   ]
  },
  {
   "cell_type": "code",
   "execution_count": 7,
   "metadata": {},
   "outputs": [
    {
     "data": {
      "text/plain": [
       "Store\n",
       "20    3.013978e+08\n",
       "4     2.995440e+08\n",
       "14    2.889999e+08\n",
       "13    2.865177e+08\n",
       "2     2.753824e+08\n",
       "Name: Weekly_Sales, dtype: float64"
      ]
     },
     "execution_count": 7,
     "metadata": {},
     "output_type": "execute_result"
    }
   ],
   "source": [
    "df_sales.head()"
   ]
  },
  {
   "cell_type": "markdown",
   "metadata": {},
   "source": [
    "###### Store 20 has maximum sales"
   ]
  },
  {
   "cell_type": "code",
   "execution_count": 8,
   "metadata": {},
   "outputs": [
    {
     "data": {
      "text/plain": [
       "<matplotlib.axes._subplots.AxesSubplot at 0x205e3e2df08>"
      ]
     },
     "execution_count": 8,
     "metadata": {},
     "output_type": "execute_result"
    },
    {
     "data": {
      "image/png": "[encoded data removed]",
      "text/plain": [
       "<Figure size 432x288 with 1 Axes>"
      ]
     },
     "metadata": {
      "needs_background": "light"
     },
     "output_type": "display_data"
    }
   ],
   "source": [
    "df_stores.plot(kind='line', x='Store',y='Weekly_Sales', alpha=1.5,fig=(4,5))\n",
    "#sns.barplot(y=df_stores[\"Store\"],x=df_stores[\"Weekly_Sales\"])"
   ]
  },
  {
   "cell_type": "markdown",
   "metadata": {},
   "source": [
    "#### Which store has maximum standard deviation "
   ]
  },
  {
   "cell_type": "code",
   "execution_count": 9,
   "metadata": {},
   "outputs": [],
   "source": [
    "df_std_sales = df_stores.groupby('Store')['Weekly_Sales'].std().sort_values(ascending=False)"
   ]
  },
  {
   "cell_type": "code",
   "execution_count": 10,
   "metadata": {},
   "outputs": [
    {
     "data": {
      "text/plain": [
       "Store\n",
       "14    317569.949476\n",
       "10    302262.062504\n",
       "20    275900.562742\n",
       "4     266201.442297\n",
       "13    265506.995776\n",
       "Name: Weekly_Sales, dtype: float64"
      ]
     },
     "execution_count": 10,
     "metadata": {},
     "output_type": "execute_result"
    }
   ],
   "source": [
    "df_std_sales.head()"
   ]
  },
  {
   "cell_type": "markdown",
   "metadata": {},
   "source": [
    "###### Store 14 has maximum standard deviation"
   ]
  },
  {
   "cell_type": "markdown",
   "metadata": {},
   "source": [
    "#### Find out the coefficient of mean to standard deviation"
   ]
  },
  {
   "cell_type": "code",
   "execution_count": 11,
   "metadata": {},
   "outputs": [],
   "source": [
    "df_var_sales = df_stores.groupby('Store')['Weekly_Sales'].var().sort_values(ascending=False)"
   ]
  },
  {
   "cell_type": "code",
   "execution_count": 12,
   "metadata": {},
   "outputs": [
    {
     "data": {
      "text/plain": [
       "Store\n",
       "14    1.008507e+11\n",
       "10    9.136235e+10\n",
       "20    7.612112e+10\n",
       "4     7.086321e+10\n",
       "13    7.049396e+10\n",
       "Name: Weekly_Sales, dtype: float64"
      ]
     },
     "execution_count": 12,
     "metadata": {},
     "output_type": "execute_result"
    }
   ],
   "source": [
    "df_var_sales.head()"
   ]
  },
  {
   "cell_type": "markdown",
   "metadata": {},
   "source": [
    "#### Which store/s has good quarterly growth rate in Q3’2012"
   ]
  },
  {
   "cell_type": "code",
   "execution_count": 13,
   "metadata": {},
   "outputs": [],
   "source": [
    "df_stores.Date = pd.to_datetime(df_stores.Date)"
   ]
  },
  {
   "cell_type": "code",
   "execution_count": 14,
   "metadata": {},
   "outputs": [],
   "source": [
    "df_pivot = df_stores.pivot_table(index='Store', columns='Date', values='Weekly_Sales', aggfunc='sum')"
   ]
  },
  {
   "cell_type": "code",
   "execution_count": 15,
   "metadata": {},
   "outputs": [
    {
     "data": {
      "text/html": [
       "<div>\n",
       "<style scoped>\n",
       "    .dataframe tbody tr th:only-of-type {\n",
       "        vertical-align: middle;\n",
       "    }\n",
       "\n",
       "    .dataframe tbody tr th {\n",
       "        vertical-align: top;\n",
       "    }\n",
       "\n",
       "    .dataframe thead th {\n",
       "        text-align: right;\n",
       "    }\n",
       "</style>\n",
       "<table border=\"1\" class=\"dataframe\">\n",
       "  <thead>\n",
       "    <tr style=\"text-align: right;\">\n",
       "      <th>Date</th>\n",
       "      <th>2010-01-10</th>\n",
       "      <th>2010-02-04</th>\n",
       "      <th>2010-02-07</th>\n",
       "      <th>2010-02-19</th>\n",
       "      <th>2010-02-26</th>\n",
       "      <th>2010-03-09</th>\n",
       "      <th>2010-03-12</th>\n",
       "      <th>2010-03-19</th>\n",
       "      <th>2010-03-26</th>\n",
       "      <th>2010-04-06</th>\n",
       "      <th>...</th>\n",
       "      <th>2012-09-03</th>\n",
       "      <th>2012-09-14</th>\n",
       "      <th>2012-09-21</th>\n",
       "      <th>2012-09-28</th>\n",
       "      <th>2012-10-02</th>\n",
       "      <th>2012-10-08</th>\n",
       "      <th>2012-10-19</th>\n",
       "      <th>2012-10-26</th>\n",
       "      <th>2012-11-05</th>\n",
       "      <th>2012-12-10</th>\n",
       "    </tr>\n",
       "    <tr>\n",
       "      <th>Store</th>\n",
       "      <th></th>\n",
       "      <th></th>\n",
       "      <th></th>\n",
       "      <th></th>\n",
       "      <th></th>\n",
       "      <th></th>\n",
       "      <th></th>\n",
       "      <th></th>\n",
       "      <th></th>\n",
       "      <th></th>\n",
       "      <th></th>\n",
       "      <th></th>\n",
       "      <th></th>\n",
       "      <th></th>\n",
       "      <th></th>\n",
       "      <th></th>\n",
       "      <th></th>\n",
       "      <th></th>\n",
       "      <th></th>\n",
       "      <th></th>\n",
       "      <th></th>\n",
       "    </tr>\n",
       "  </thead>\n",
       "  <tbody>\n",
       "    <tr>\n",
       "      <td>1</td>\n",
       "      <td>1453329.50</td>\n",
       "      <td>1594968.28</td>\n",
       "      <td>1492418.14</td>\n",
       "      <td>1611968.17</td>\n",
       "      <td>1409727.59</td>\n",
       "      <td>1540163.53</td>\n",
       "      <td>1548033.78</td>\n",
       "      <td>1472515.79</td>\n",
       "      <td>1404429.92</td>\n",
       "      <td>1615524.71</td>\n",
       "      <td>...</td>\n",
       "      <td>1675431.16</td>\n",
       "      <td>1517428.87</td>\n",
       "      <td>1506126.06</td>\n",
       "      <td>1437059.26</td>\n",
       "      <td>1802477.43</td>\n",
       "      <td>1592409.97</td>\n",
       "      <td>1508068.77</td>\n",
       "      <td>1493659.74</td>\n",
       "      <td>1611096.05</td>\n",
       "      <td>1573072.81</td>\n",
       "    </tr>\n",
       "    <tr>\n",
       "      <td>2</td>\n",
       "      <td>1827440.43</td>\n",
       "      <td>2066187.72</td>\n",
       "      <td>2003940.64</td>\n",
       "      <td>2124451.54</td>\n",
       "      <td>1865097.27</td>\n",
       "      <td>1904608.09</td>\n",
       "      <td>2015781.27</td>\n",
       "      <td>1946070.88</td>\n",
       "      <td>1750197.81</td>\n",
       "      <td>2102539.93</td>\n",
       "      <td>...</td>\n",
       "      <td>1937628.26</td>\n",
       "      <td>1814806.63</td>\n",
       "      <td>1829415.67</td>\n",
       "      <td>1746470.56</td>\n",
       "      <td>2103322.68</td>\n",
       "      <td>1866719.96</td>\n",
       "      <td>1847990.41</td>\n",
       "      <td>1834458.35</td>\n",
       "      <td>1917520.99</td>\n",
       "      <td>1900745.13</td>\n",
       "    </tr>\n",
       "    <tr>\n",
       "      <td>3</td>\n",
       "      <td>358784.10</td>\n",
       "      <td>423294.40</td>\n",
       "      <td>381151.72</td>\n",
       "      <td>421642.19</td>\n",
       "      <td>407204.86</td>\n",
       "      <td>366473.97</td>\n",
       "      <td>476420.77</td>\n",
       "      <td>375328.59</td>\n",
       "      <td>359949.27</td>\n",
       "      <td>396968.80</td>\n",
       "      <td>...</td>\n",
       "      <td>445162.05</td>\n",
       "      <td>407589.16</td>\n",
       "      <td>414392.09</td>\n",
       "      <td>389813.02</td>\n",
       "      <td>473292.47</td>\n",
       "      <td>391811.60</td>\n",
       "      <td>424513.08</td>\n",
       "      <td>405432.70</td>\n",
       "      <td>431985.36</td>\n",
       "      <td>410804.39</td>\n",
       "    </tr>\n",
       "    <tr>\n",
       "      <td>4</td>\n",
       "      <td>1842821.02</td>\n",
       "      <td>1979247.12</td>\n",
       "      <td>1881337.21</td>\n",
       "      <td>2049860.26</td>\n",
       "      <td>1925728.84</td>\n",
       "      <td>1935857.58</td>\n",
       "      <td>2102530.17</td>\n",
       "      <td>1897429.36</td>\n",
       "      <td>1762539.30</td>\n",
       "      <td>1903290.58</td>\n",
       "      <td>...</td>\n",
       "      <td>2202450.81</td>\n",
       "      <td>2117854.60</td>\n",
       "      <td>2119438.53</td>\n",
       "      <td>2027620.23</td>\n",
       "      <td>2374660.64</td>\n",
       "      <td>2193367.69</td>\n",
       "      <td>2097266.85</td>\n",
       "      <td>2149594.46</td>\n",
       "      <td>2127661.17</td>\n",
       "      <td>2133026.07</td>\n",
       "    </tr>\n",
       "    <tr>\n",
       "      <td>5</td>\n",
       "      <td>283178.12</td>\n",
       "      <td>331406.00</td>\n",
       "      <td>305993.27</td>\n",
       "      <td>303447.57</td>\n",
       "      <td>270281.63</td>\n",
       "      <td>323798.00</td>\n",
       "      <td>344490.88</td>\n",
       "      <td>281706.41</td>\n",
       "      <td>273282.97</td>\n",
       "      <td>337825.89</td>\n",
       "      <td>...</td>\n",
       "      <td>347295.60</td>\n",
       "      <td>299800.67</td>\n",
       "      <td>307306.76</td>\n",
       "      <td>310141.68</td>\n",
       "      <td>349239.88</td>\n",
       "      <td>306759.70</td>\n",
       "      <td>313358.15</td>\n",
       "      <td>319550.77</td>\n",
       "      <td>333870.52</td>\n",
       "      <td>325345.41</td>\n",
       "    </tr>\n",
       "  </tbody>\n",
       "</table>\n",
       "<p>5 rows × 143 columns</p>\n",
       "</div>"
      ],
      "text/plain": [
       "Date   2010-01-10  2010-02-04  2010-02-07  2010-02-19  2010-02-26  2010-03-09  \\\n",
       "Store                                                                           \n",
       "1      1453329.50  1594968.28  1492418.14  1611968.17  1409727.59  1540163.53   \n",
       "2      1827440.43  2066187.72  2003940.64  2124451.54  1865097.27  1904608.09   \n",
       "3       358784.10   423294.40   381151.72   421642.19   407204.86   366473.97   \n",
       "4      1842821.02  1979247.12  1881337.21  2049860.26  1925728.84  1935857.58   \n",
       "5       283178.12   331406.00   305993.27   303447.57   270281.63   323798.00   \n",
       "\n",
       "Date   2010-03-12  2010-03-19  2010-03-26  2010-04-06  ...  2012-09-03  \\\n",
       "Store                                                  ...               \n",
       "1      1548033.78  1472515.79  1404429.92  1615524.71  ...  1675431.16   \n",
       "2      2015781.27  1946070.88  1750197.81  2102539.93  ...  1937628.26   \n",
       "3       476420.77   375328.59   359949.27   396968.80  ...   445162.05   \n",
       "4      2102530.17  1897429.36  1762539.30  1903290.58  ...  2202450.81   \n",
       "5       344490.88   281706.41   273282.97   337825.89  ...   347295.60   \n",
       "\n",
       "Date   2012-09-14  2012-09-21  2012-09-28  2012-10-02  2012-10-08  2012-10-19  \\\n",
       "Store                                                                           \n",
       "1      1517428.87  1506126.06  1437059.26  1802477.43  1592409.97  1508068.77   \n",
       "2      1814806.63  1829415.67  1746470.56  2103322.68  1866719.96  1847990.41   \n",
       "3       407589.16   414392.09   389813.02   473292.47   391811.60   424513.08   \n",
       "4      2117854.60  2119438.53  2027620.23  2374660.64  2193367.69  2097266.85   \n",
       "5       299800.67   307306.76   310141.68   349239.88   306759.70   313358.15   \n",
       "\n",
       "Date   2012-10-26  2012-11-05  2012-12-10  \n",
       "Store                                      \n",
       "1      1493659.74  1611096.05  1573072.81  \n",
       "2      1834458.35  1917520.99  1900745.13  \n",
       "3       405432.70   431985.36   410804.39  \n",
       "4      2149594.46  2127661.17  2133026.07  \n",
       "5       319550.77   333870.52   325345.41  \n",
       "\n",
       "[5 rows x 143 columns]"
      ]
     },
     "execution_count": 15,
     "metadata": {},
     "output_type": "execute_result"
    }
   ],
   "source": [
    "df_pivot.head()"
   ]
  },
  {
   "cell_type": "code",
   "execution_count": 16,
   "metadata": {},
   "outputs": [],
   "source": [
    "df_Q = (df_pivot.groupby(pd.PeriodIndex(df_pivot.columns, freq='Q'), axis=1).apply(lambda x: x.sum(axis=1)/x.shape[1]))"
   ]
  },
  {
   "cell_type": "code",
   "execution_count": 17,
   "metadata": {},
   "outputs": [
    {
     "data": {
      "text/plain": [
       "PeriodIndex(['2010Q1', '2010Q2', '2010Q3', '2010Q4', '2011Q1', '2011Q2',\n",
       "             '2011Q3', '2011Q4', '2012Q1', '2012Q2', '2012Q3', '2012Q4'],\n",
       "            dtype='period[Q-DEC]', name='Date', freq='Q-DEC')"
      ]
     },
     "execution_count": 17,
     "metadata": {},
     "output_type": "execute_result"
    }
   ],
   "source": [
    "df_Q.columns"
   ]
  },
  {
   "cell_type": "code",
   "execution_count": 18,
   "metadata": {},
   "outputs": [],
   "source": [
    "df_Q32012 =df_Q['2012Q3']"
   ]
  },
  {
   "cell_type": "code",
   "execution_count": 19,
   "metadata": {},
   "outputs": [
    {
     "data": {
      "text/plain": [
       "Store\n",
       "4     2.137677e+06\n",
       "20    2.055495e+06\n",
       "13    2.026666e+06\n",
       "2     1.866406e+06\n",
       "10    1.764113e+06\n",
       "Name: 2012Q3, dtype: float64"
      ]
     },
     "execution_count": 19,
     "metadata": {},
     "output_type": "execute_result"
    }
   ],
   "source": [
    "df_Q32012.sort_values(ascending=False).head()"
   ]
  },
  {
   "cell_type": "markdown",
   "metadata": {},
   "source": [
    "###### Top 5 Stores in 2012-Q3 are 4,20,13,2,10"
   ]
  },
  {
   "cell_type": "markdown",
   "metadata": {},
   "source": [
    "#### Some holidays have a negative impact on sales. Find out holidays which have higher sales than the mean sales in non-holiday season for all stores together"
   ]
  },
  {
   "cell_type": "code",
   "execution_count": 20,
   "metadata": {},
   "outputs": [],
   "source": [
    "df_hol_sales = df_stores.groupby(['Date','Holiday_Flag'])['Weekly_Sales'].mean().sort_values(ascending=True)"
   ]
  },
  {
   "cell_type": "code",
   "execution_count": 21,
   "metadata": {},
   "outputs": [
    {
     "data": {
      "text/plain": [
       "Date        Holiday_Flag\n",
       "2011-01-28  0               879996.733111\n",
       "2012-01-27  0               885221.659333\n",
       "2010-12-31  1               898500.422222\n",
       "2011-01-21  0               903436.622889\n",
       "2011-01-14  0               903859.512000\n",
       "Name: Weekly_Sales, dtype: float64"
      ]
     },
     "execution_count": 21,
     "metadata": {},
     "output_type": "execute_result"
    }
   ],
   "source": [
    "df_hol_sales.head()"
   ]
  },
  {
   "cell_type": "code",
   "execution_count": 24,
   "metadata": {},
   "outputs": [
    {
     "name": "stderr",
     "output_type": "stream",
     "text": [
      "C:\\Users\\win10\\Anaconda3\\lib\\site-packages\\pandas\\core\\ops\\__init__.py:1115: FutureWarning: elementwise comparison failed; returning scalar instead, but in the future will perform elementwise comparison\n",
      "  result = method(y)\n"
     ]
    }
   ],
   "source": [
    "#df['BrandName'] = df['BrandName'].replace(['ABC', 'AB'], 'A')\n",
    "#df_holiday=df_stores['Date'].replace(['12-Feb-10', '11-Feb-11', '10-Feb-12', '8-Feb-13'],'SB')\n",
    "#df_holiday=df_holiday['Date'].replace(['10-Sep-10', '9-Sep-11', '7-Sep-12', '6-Sep-13'],'LD')\n",
    "#df_holiday=df_holiday['Date'].replace(['10-Sep-10', '9-Sep-11', '7-Sep-12', '6-Sep-13'],'LD')\n",
    "#df['c2'] = np.where(df.c1 == 8,'X', df.c3)\n",
    "#df['FirstName'][df.ID == 103] = \"Matt\"\n",
    "#df_holiday= df_stores['Holiday_Flag'][df_stores.Date == '12-Feb-10']='SB'\n",
    "#df_holiday= df_stores.copy()  .astype(str)  .astype(int)\n",
    "#df_holiday['Holiday_Flag']=np.where((df_holiday['Date']==datetime(2010, 2, 12)) | (df_holiday['Date']==datetime(2011, 2, 11)) | \n",
    " #                      (df_holiday['Date']==datetime(2012, 2, 10)) | (df_holiday['Date']==datetime(2013, 2, 8)),'1','SB')\n",
    "df_holiday= df_stores[\n",
    "            (df_stores['Date'].dt.strftime('%Y-%m-%d') == '2010-02-10') |\n",
    "            (df_stores['Date'].dt.strftime('%Y-%m-%d') == '2011-02-11') |\n",
    "            (df_stores['Date'].dt.strftime('%Y-%m-%d') == '2012-02-10') |\n",
    "            (df_stores['Date'].dt.strftime('%Y-%m-%d') == '2013-02-08') | \n",
    "            (df_stores['Holiday_Flag']=='SB')\n",
    "          ]\n",
    "                    \n",
    "                      \n",
    "\n"
   ]
  },
  {
   "cell_type": "code",
   "execution_count": 28,
   "metadata": {},
   "outputs": [
    {
     "data": {
      "text/html": [
       "<div>\n",
       "<style scoped>\n",
       "    .dataframe tbody tr th:only-of-type {\n",
       "        vertical-align: middle;\n",
       "    }\n",
       "\n",
       "    .dataframe tbody tr th {\n",
       "        vertical-align: top;\n",
       "    }\n",
       "\n",
       "    .dataframe thead th {\n",
       "        text-align: right;\n",
       "    }\n",
       "</style>\n",
       "<table border=\"1\" class=\"dataframe\">\n",
       "  <thead>\n",
       "    <tr style=\"text-align: right;\">\n",
       "      <th></th>\n",
       "      <th>Store</th>\n",
       "      <th>Date</th>\n",
       "      <th>Weekly_Sales</th>\n",
       "      <th>Holiday_Flag</th>\n",
       "      <th>Temperature</th>\n",
       "      <th>Fuel_Price</th>\n",
       "      <th>CPI</th>\n",
       "      <th>Unemployment</th>\n",
       "    </tr>\n",
       "  </thead>\n",
       "  <tbody>\n",
       "  </tbody>\n",
       "</table>\n",
       "</div>"
      ],
      "text/plain": [
       "Empty DataFrame\n",
       "Columns: [Store, Date, Weekly_Sales, Holiday_Flag, Temperature, Fuel_Price, CPI, Unemployment]\n",
       "Index: []"
      ]
     },
     "execution_count": 28,
     "metadata": {},
     "output_type": "execute_result"
    }
   ],
   "source": [
    "df_holiday.head()\n",
    "#df_stores.head()\n",
    "#df_holiday.Holiday_Flag.value_counts()"
   ]
  },
  {
   "cell_type": "code",
   "execution_count": 68,
   "metadata": {},
   "outputs": [
    {
     "data": {
      "text/plain": [
       "0       2010-05-02\n",
       "1       2010-12-02\n",
       "2       2010-02-19\n",
       "3       2010-02-26\n",
       "4       2010-05-03\n",
       "           ...    \n",
       "6430    2012-09-28\n",
       "6431    2012-05-10\n",
       "6432    2012-12-10\n",
       "6433    2012-10-19\n",
       "6434    2012-10-26\n",
       "Name: Date, Length: 6435, dtype: object"
      ]
     },
     "execution_count": 68,
     "metadata": {},
     "output_type": "execute_result"
    }
   ],
   "source": [
    "df_stores['Date'].dt.strftime('%Y-%m-%d')"
   ]
  },
  {
   "cell_type": "code",
   "execution_count": null,
   "metadata": {},
   "outputs": [],
   "source": [
    "df_stores.Date = pd.to_datetime(df_stores.Date)\n",
    "df_stores.set_index('Date', inplace=True)\n",
    "df_stores.resample('QS').sum()"
   ]
  },
  {
   "cell_type": "code",
   "execution_count": null,
   "metadata": {},
   "outputs": [],
   "source": [
    "print(df[\n",
    "   (df['Date-Joined'] > '2010-01-01') &\n",
    "   (df['Date-Joined'] < '2012-02-01') &\n",
    "   (df['Contract-Type'] == '1 Year Membership') |\n",
    "   (df['Contract-Type'] == '4 Month Membership')\n",
    "  ])"
   ]
  },
  {
   "cell_type": "code",
   "execution_count": null,
   "metadata": {},
   "outputs": [],
   "source": []
  }
 ],
 "metadata": {
  "kernelspec": {
   "display_name": "Python 3",
   "language": "python",
   "name": "python3"
  },
  "language_info": {
   "codemirror_mode": {
    "name": "ipython",
    "version": 3
   },
   "file_extension": ".py",
   "mimetype": "text/x-python",
   "name": "python",
   "nbconvert_exporter": "python",
   "pygments_lexer": "ipython3",
   "version": "3.7.4"
  }
 },
 "nbformat": 4,
 "nbformat_minor": 2
}
